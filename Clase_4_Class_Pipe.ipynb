{
  "nbformat": 4,
  "nbformat_minor": 0,
  "metadata": {
    "colab": {
      "name": "Clase 4- Class/Pipe.ipynb",
      "provenance": [],
      "authorship_tag": "ABX9TyNQKikub5H7iVhNA7DfLsFj",
      "include_colab_link": true
    },
    "kernelspec": {
      "name": "python3",
      "display_name": "Python 3"
    },
    "language_info": {
      "name": "python"
    }
  },
  "cells": [
    {
      "cell_type": "markdown",
      "metadata": {
        "id": "view-in-github",
        "colab_type": "text"
      },
      "source": [
        "<a href=\"https://colab.research.google.com/github/danielfrgs/LCD-CC-2022-I/blob/main/Clase_4_Class_Pipe.ipynb\" target=\"_parent\"><img src=\"https://colab.research.google.com/assets/colab-badge.svg\" alt=\"Open In Colab\"/></a>"
      ]
    },
    {
      "cell_type": "code",
      "metadata": {
        "colab": {
          "base_uri": "https://localhost:8080/",
          "height": 579
        },
        "id": "1JONkWxor0vY",
        "outputId": "7a3bd9f0-7e32-42b2-8f12-163025e75f45"
      },
      "source": [
        "import multiprocessing\n",
        "# Crear un proceso que hereda de clase\n",
        "\n",
        "class MyProcess(multiprocessing.Process):\n",
        "    def __init__(self):\n",
        "        super(MyProcess, self).__init__()\n",
        "\n",
        "    def run(self):\n",
        "        print(\"Child Process PID: {}\".format(multiprocessing.current_process().pid))\n",
        "\n",
        "def main():\n",
        "    print(\"Main Process PID: {}\".format(multiprocessing.current_process().pid))\n",
        "    myProcess = MyProcess()\n",
        "    myProcess.start()\n",
        "    myProcess.join()\n",
        "\n",
        "main()\n",
        "\n",
        "# Comunicación de pipe\n",
        "\n",
        "from multiprocessing import Process, Pipe\n",
        "\n",
        "def worker(conn):\n",
        "    print(conn.recv())\n",
        "    time.sleep(1.8)\n",
        "    conn.send(\"sent from child process\")\n",
        "    conn.close()\n",
        "\n",
        "conn1, conn2 = multiprocessing.Pipe()\n",
        "process = multiprocessing.Process(target=worker, args=(conn2,))\n",
        "process.start()\n",
        "\n",
        "conn1.send(\"sent from main process\")\n",
        "print(conn1.recv())\n",
        "process.join()\n",
        "\n",
        "# Otro ejemplo de PIPE\n",
        "# Aquí solo es enre dos procesos\n",
        "\n",
        "import multiprocessing\n",
        "\n",
        "from multiprocessing import Process, Pipe\n",
        "\n",
        "nombres = [\"Carlos\", \"Renata\", \"Rebeca\", \"Sandra\", \"END\"]\n",
        "\n",
        "def send_msgs(conn, msgs):\n",
        "    for msg in msgs:\n",
        "        conn.send(msg)\n",
        "    conn.close()\n",
        "\n",
        "def recv_msgs(conn):\n",
        "\n",
        "    while 1:\n",
        "        msg = conn.recv()\n",
        "        if msg == \"END\":\n",
        "            break\n",
        "        print(msg)\n",
        "\n",
        "parent_conn, child_conn = multiprocessing.Pipe()\n",
        "\n",
        "p1 = multiprocessing.Process(target=send_msgs, args=(parent_conn, nombres))\n",
        "p2 = multiprocessing.Process(target=recv_msgs, args=(child_conn,))\n",
        "\n",
        "\n",
        "p1.start()\n",
        "p2.start()\n",
        "p1.join()\n",
        "p2.join()\n"
      ],
      "execution_count": 2,
      "outputs": [
        {
          "output_type": "stream",
          "name": "stdout",
          "text": [
            "Main Process PID: 64\n",
            "Child Process PID: 106\n",
            "sent from main process\n"
          ]
        },
        {
          "output_type": "stream",
          "name": "stderr",
          "text": [
            "Process Process-2:\n",
            "Traceback (most recent call last):\n",
            "  File \"/usr/lib/python3.7/multiprocessing/process.py\", line 297, in _bootstrap\n",
            "    self.run()\n",
            "  File \"/usr/lib/python3.7/multiprocessing/process.py\", line 99, in run\n",
            "    self._target(*self._args, **self._kwargs)\n",
            "  File \"<ipython-input-2-6318868e63e6>\", line 25, in worker\n",
            "    time.sleep(1.8)\n",
            "NameError: name 'time' is not defined\n"
          ]
        },
        {
          "output_type": "error",
          "ename": "KeyboardInterrupt",
          "evalue": "ignored",
          "traceback": [
            "\u001b[0;31m---------------------------------------------------------------------------\u001b[0m",
            "\u001b[0;31mKeyboardInterrupt\u001b[0m                         Traceback (most recent call last)",
            "\u001b[0;32m<ipython-input-2-6318868e63e6>\u001b[0m in \u001b[0;36m<module>\u001b[0;34m()\u001b[0m\n\u001b[1;32m     32\u001b[0m \u001b[0;34m\u001b[0m\u001b[0m\n\u001b[1;32m     33\u001b[0m \u001b[0mconn1\u001b[0m\u001b[0;34m.\u001b[0m\u001b[0msend\u001b[0m\u001b[0;34m(\u001b[0m\u001b[0;34m\"sent from main process\"\u001b[0m\u001b[0;34m)\u001b[0m\u001b[0;34m\u001b[0m\u001b[0;34m\u001b[0m\u001b[0m\n\u001b[0;32m---> 34\u001b[0;31m \u001b[0mprint\u001b[0m\u001b[0;34m(\u001b[0m\u001b[0mconn1\u001b[0m\u001b[0;34m.\u001b[0m\u001b[0mrecv\u001b[0m\u001b[0;34m(\u001b[0m\u001b[0;34m)\u001b[0m\u001b[0;34m)\u001b[0m\u001b[0;34m\u001b[0m\u001b[0;34m\u001b[0m\u001b[0m\n\u001b[0m\u001b[1;32m     35\u001b[0m \u001b[0mprocess\u001b[0m\u001b[0;34m.\u001b[0m\u001b[0mjoin\u001b[0m\u001b[0;34m(\u001b[0m\u001b[0;34m)\u001b[0m\u001b[0;34m\u001b[0m\u001b[0;34m\u001b[0m\u001b[0m\n\u001b[1;32m     36\u001b[0m \u001b[0;34m\u001b[0m\u001b[0m\n",
            "\u001b[0;32m/usr/lib/python3.7/multiprocessing/connection.py\u001b[0m in \u001b[0;36mrecv\u001b[0;34m(self)\u001b[0m\n\u001b[1;32m    248\u001b[0m         \u001b[0mself\u001b[0m\u001b[0;34m.\u001b[0m\u001b[0m_check_closed\u001b[0m\u001b[0;34m(\u001b[0m\u001b[0;34m)\u001b[0m\u001b[0;34m\u001b[0m\u001b[0;34m\u001b[0m\u001b[0m\n\u001b[1;32m    249\u001b[0m         \u001b[0mself\u001b[0m\u001b[0;34m.\u001b[0m\u001b[0m_check_readable\u001b[0m\u001b[0;34m(\u001b[0m\u001b[0;34m)\u001b[0m\u001b[0;34m\u001b[0m\u001b[0;34m\u001b[0m\u001b[0m\n\u001b[0;32m--> 250\u001b[0;31m         \u001b[0mbuf\u001b[0m \u001b[0;34m=\u001b[0m \u001b[0mself\u001b[0m\u001b[0;34m.\u001b[0m\u001b[0m_recv_bytes\u001b[0m\u001b[0;34m(\u001b[0m\u001b[0;34m)\u001b[0m\u001b[0;34m\u001b[0m\u001b[0;34m\u001b[0m\u001b[0m\n\u001b[0m\u001b[1;32m    251\u001b[0m         \u001b[0;32mreturn\u001b[0m \u001b[0m_ForkingPickler\u001b[0m\u001b[0;34m.\u001b[0m\u001b[0mloads\u001b[0m\u001b[0;34m(\u001b[0m\u001b[0mbuf\u001b[0m\u001b[0;34m.\u001b[0m\u001b[0mgetbuffer\u001b[0m\u001b[0;34m(\u001b[0m\u001b[0;34m)\u001b[0m\u001b[0;34m)\u001b[0m\u001b[0;34m\u001b[0m\u001b[0;34m\u001b[0m\u001b[0m\n\u001b[1;32m    252\u001b[0m \u001b[0;34m\u001b[0m\u001b[0m\n",
            "\u001b[0;32m/usr/lib/python3.7/multiprocessing/connection.py\u001b[0m in \u001b[0;36m_recv_bytes\u001b[0;34m(self, maxsize)\u001b[0m\n\u001b[1;32m    405\u001b[0m \u001b[0;34m\u001b[0m\u001b[0m\n\u001b[1;32m    406\u001b[0m     \u001b[0;32mdef\u001b[0m \u001b[0m_recv_bytes\u001b[0m\u001b[0;34m(\u001b[0m\u001b[0mself\u001b[0m\u001b[0;34m,\u001b[0m \u001b[0mmaxsize\u001b[0m\u001b[0;34m=\u001b[0m\u001b[0;32mNone\u001b[0m\u001b[0;34m)\u001b[0m\u001b[0;34m:\u001b[0m\u001b[0;34m\u001b[0m\u001b[0;34m\u001b[0m\u001b[0m\n\u001b[0;32m--> 407\u001b[0;31m         \u001b[0mbuf\u001b[0m \u001b[0;34m=\u001b[0m \u001b[0mself\u001b[0m\u001b[0;34m.\u001b[0m\u001b[0m_recv\u001b[0m\u001b[0;34m(\u001b[0m\u001b[0;36m4\u001b[0m\u001b[0;34m)\u001b[0m\u001b[0;34m\u001b[0m\u001b[0;34m\u001b[0m\u001b[0m\n\u001b[0m\u001b[1;32m    408\u001b[0m         \u001b[0msize\u001b[0m\u001b[0;34m,\u001b[0m \u001b[0;34m=\u001b[0m \u001b[0mstruct\u001b[0m\u001b[0;34m.\u001b[0m\u001b[0munpack\u001b[0m\u001b[0;34m(\u001b[0m\u001b[0;34m\"!i\"\u001b[0m\u001b[0;34m,\u001b[0m \u001b[0mbuf\u001b[0m\u001b[0;34m.\u001b[0m\u001b[0mgetvalue\u001b[0m\u001b[0;34m(\u001b[0m\u001b[0;34m)\u001b[0m\u001b[0;34m)\u001b[0m\u001b[0;34m\u001b[0m\u001b[0;34m\u001b[0m\u001b[0m\n\u001b[1;32m    409\u001b[0m         \u001b[0;32mif\u001b[0m \u001b[0mmaxsize\u001b[0m \u001b[0;32mis\u001b[0m \u001b[0;32mnot\u001b[0m \u001b[0;32mNone\u001b[0m \u001b[0;32mand\u001b[0m \u001b[0msize\u001b[0m \u001b[0;34m>\u001b[0m \u001b[0mmaxsize\u001b[0m\u001b[0;34m:\u001b[0m\u001b[0;34m\u001b[0m\u001b[0;34m\u001b[0m\u001b[0m\n",
            "\u001b[0;32m/usr/lib/python3.7/multiprocessing/connection.py\u001b[0m in \u001b[0;36m_recv\u001b[0;34m(self, size, read)\u001b[0m\n\u001b[1;32m    377\u001b[0m         \u001b[0mremaining\u001b[0m \u001b[0;34m=\u001b[0m \u001b[0msize\u001b[0m\u001b[0;34m\u001b[0m\u001b[0;34m\u001b[0m\u001b[0m\n\u001b[1;32m    378\u001b[0m         \u001b[0;32mwhile\u001b[0m \u001b[0mremaining\u001b[0m \u001b[0;34m>\u001b[0m \u001b[0;36m0\u001b[0m\u001b[0;34m:\u001b[0m\u001b[0;34m\u001b[0m\u001b[0;34m\u001b[0m\u001b[0m\n\u001b[0;32m--> 379\u001b[0;31m             \u001b[0mchunk\u001b[0m \u001b[0;34m=\u001b[0m \u001b[0mread\u001b[0m\u001b[0;34m(\u001b[0m\u001b[0mhandle\u001b[0m\u001b[0;34m,\u001b[0m \u001b[0mremaining\u001b[0m\u001b[0;34m)\u001b[0m\u001b[0;34m\u001b[0m\u001b[0;34m\u001b[0m\u001b[0m\n\u001b[0m\u001b[1;32m    380\u001b[0m             \u001b[0mn\u001b[0m \u001b[0;34m=\u001b[0m \u001b[0mlen\u001b[0m\u001b[0;34m(\u001b[0m\u001b[0mchunk\u001b[0m\u001b[0;34m)\u001b[0m\u001b[0;34m\u001b[0m\u001b[0;34m\u001b[0m\u001b[0m\n\u001b[1;32m    381\u001b[0m             \u001b[0;32mif\u001b[0m \u001b[0mn\u001b[0m \u001b[0;34m==\u001b[0m \u001b[0;36m0\u001b[0m\u001b[0;34m:\u001b[0m\u001b[0;34m\u001b[0m\u001b[0;34m\u001b[0m\u001b[0m\n",
            "\u001b[0;31mKeyboardInterrupt\u001b[0m: "
          ]
        }
      ]
    },
    {
      "cell_type": "code",
      "metadata": {
        "colab": {
          "base_uri": "https://localhost:8080/"
        },
        "id": "lipH3F-dr9Mt",
        "outputId": "c6c49f04-423f-4f93-bde3-a0124c95e46d"
      },
      "source": [
        "\n",
        "# Manejo de sistema operativo\n",
        "\n",
        "\n",
        "import os, sys\n",
        "import multiprocessing\n",
        "\n",
        "class ChildProcess(multiprocessing.Process):\n",
        "\n",
        "    def __init__(self, pipein):\n",
        "        super(ChildProcess, self).__init__()\n",
        "        self.pipein = pipein\n",
        "\n",
        "    def run(self):\n",
        "        print(\"Intentando iniciar el pipe\")\n",
        "        self.pipein = os.fdopen(self.pipein, 'w')\n",
        "        self.pipein.write(\"Mi código es MX-317\")\n",
        "        self.pipein.close()\n",
        "\n",
        "\n",
        "def main():\n",
        "    pipeout, pipein = os.pipe()\n",
        "\n",
        "    child = ChildProcess(pipein)\n",
        "    child.start()\n",
        "    child.join()\n",
        "\n",
        "    os.close(pipein)\n",
        "    pipeout = os.fdopen(pipeout)\n",
        "\n",
        "    pipeContent = pipeout.read()\n",
        "    print(\"Pipe: {}\".format(pipeContent))\n",
        "\n",
        "if __name__== '__main__':\n",
        "    main()\n"
      ],
      "execution_count": 3,
      "outputs": [
        {
          "output_type": "stream",
          "name": "stdout",
          "text": [
            "Intentando iniciar el pipe\n",
            "Pipe: Mi código es MX-317\n"
          ]
        }
      ]
    },
    {
      "cell_type": "code",
      "metadata": {
        "colab": {
          "base_uri": "https://localhost:8080/"
        },
        "id": "GrccuF3IsG9u",
        "outputId": "56d66411-43d4-4ee3-d7f6-b970349549b9"
      },
      "source": [
        "# Colas\n",
        "\n",
        "import multiprocessing\n",
        "\n",
        "class MyWorker():\n",
        "    def __init__(self, x):\n",
        "        self.x = x\n",
        "\n",
        "    def process(self):\n",
        "        pname = multiprocessing.current_process().name\n",
        "        print('Starting process %s for number %i...' % (pname, self.x))\n",
        "\n",
        "        \n",
        "def work(q):\n",
        "    worker = q.get()\n",
        "    worker.process()\n",
        "\n",
        "if __name__ == '__main__':\n",
        "    my_queue = multiprocessing.Queue()\n",
        "\n",
        "    p = multiprocessing.Process(target=work, args=(my_queue,))\n",
        "    p.start()\n",
        "\n",
        "    my_queue.put(MyWorker(1))\n",
        "\n",
        "    my_queue.close()\n",
        "    my_queue.join_thread()   ## investigar ...\n",
        "    p.join()\n",
        "\n",
        "    print('Done.')"
      ],
      "execution_count": 4,
      "outputs": [
        {
          "output_type": "stream",
          "name": "stdout",
          "text": [
            "Starting process Process-4 for number 1...\n",
            "Done.\n"
          ]
        }
      ]
    },
    {
      "cell_type": "code",
      "metadata": {
        "id": "8Q4PiNfYusqM"
      },
      "source": [
        ""
      ],
      "execution_count": null,
      "outputs": []
    }
  ]
}